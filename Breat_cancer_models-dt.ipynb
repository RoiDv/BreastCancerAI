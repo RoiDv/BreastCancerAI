{
 "cells": [
  {
   "cell_type": "markdown",
   "metadata": {
    "collapsed": false
   },
   "source": [
    "# DT"
   ]
  },
  {
   "cell_type": "code",
   "execution_count": 1759,
   "metadata": {
    "collapsed": false
   },
   "outputs": [],
   "source": [
    "\"\"\"BreastCancerAI (c) by Roi Dvir\n",
    "BreastCancerAI is licensed under a Creative Commons Attribution-NonCommercial-NoDerivatives 4.0 International License.\n",
    "You should have received a copy of the license along with this work. If not, see <http://creativecommons.org/licenses/by-nc-nd/4.0/>.\"\"\"\n",
    "\n",
    "\n",
    "# import libraries\n",
    "import numpy as np\n",
    "import pandas as pd\n",
    "import seaborn as sn\n",
    "import matplotlib.pyplot as plt\n",
    "from matplotlib import rcParams\n",
    "from matplotlib.cm import rainbow\n",
    "%matplotlib inline\n",
    "import statsmodels.api as sm\n",
    "import scipy.stats as st\n",
    "import warnings\n",
    "warnings.filterwarnings('ignore')"
   ]
  },
  {
   "cell_type": "code",
   "execution_count": 1760,
   "metadata": {
    "collapsed": false
   },
   "outputs": [],
   "source": [
    "# Sklearn library for implementing Machine Learning models and processing of data\n",
    "from sklearn.model_selection import train_test_split\n",
    "from sklearn import preprocessing\n",
    "from sklearn.preprocessing import StandardScaler\n",
    "from sklearn.metrics import confusion_matrix\n",
    "from sklearn.utils import shuffle\n",
    "from sklearn.preprocessing import LabelEncoder\n",
    "from sklearn.feature_selection import RFE\n",
    "from sklearn.model_selection import cross_val_score"
   ]
  },
  {
   "cell_type": "code",
   "execution_count": 1761,
   "metadata": {
    "collapsed": false
   },
   "outputs": [],
   "source": [
    "from sklearn.tree import DecisionTreeClassifier"
   ]
  },
  {
   "cell_type": "code",
   "execution_count": 1762,
   "metadata": {
    "collapsed": false
   },
   "outputs": [
    {
     "name": "stdout",
     "output_type": "stream",
     "text": [
      "Cancer data set dimensions : (569, 31)\n"
     ]
    },
    {
     "data": {
      "text/html": [
       "<div>\n",
       "<style scoped>\n",
       "    .dataframe tbody tr th:only-of-type {\n",
       "        vertical-align: middle;\n",
       "    }\n",
       "\n",
       "    .dataframe tbody tr th {\n",
       "        vertical-align: top;\n",
       "    }\n",
       "\n",
       "    .dataframe thead th {\n",
       "        text-align: right;\n",
       "    }\n",
       "</style>\n",
       "<table border=\"1\" class=\"dataframe\">\n",
       "  <thead>\n",
       "    <tr style=\"text-align: right;\">\n",
       "      <th></th>\n",
       "      <th>radius.mean</th>\n",
       "      <th>texture.mean</th>\n",
       "      <th>perimeter.mean</th>\n",
       "      <th>area.mean</th>\n",
       "      <th>smoothness.mean</th>\n",
       "      <th>compactness.mean</th>\n",
       "      <th>concavity.mean</th>\n",
       "      <th>concave points.mean</th>\n",
       "      <th>symmetry.mean</th>\n",
       "      <th>fractal dimension</th>\n",
       "      <th>...</th>\n",
       "      <th>texture.w</th>\n",
       "      <th>perimeter.w</th>\n",
       "      <th>area.w</th>\n",
       "      <th>smoothness.w</th>\n",
       "      <th>compactness.w</th>\n",
       "      <th>concavity.w</th>\n",
       "      <th>concave points.w</th>\n",
       "      <th>symmetry.w</th>\n",
       "      <th>fractal dimension.w</th>\n",
       "      <th>Diagnosis</th>\n",
       "    </tr>\n",
       "  </thead>\n",
       "  <tbody>\n",
       "    <tr>\n",
       "      <th>0</th>\n",
       "      <td>17.99</td>\n",
       "      <td>10.38</td>\n",
       "      <td>122.80</td>\n",
       "      <td>1001.0</td>\n",
       "      <td>0.11840</td>\n",
       "      <td>0.27760</td>\n",
       "      <td>0.3001</td>\n",
       "      <td>0.14710</td>\n",
       "      <td>0.2419</td>\n",
       "      <td>0.07871</td>\n",
       "      <td>...</td>\n",
       "      <td>17.33</td>\n",
       "      <td>184.60</td>\n",
       "      <td>2019.0</td>\n",
       "      <td>0.1622</td>\n",
       "      <td>0.6656</td>\n",
       "      <td>0.7119</td>\n",
       "      <td>0.2654</td>\n",
       "      <td>0.4601</td>\n",
       "      <td>0.11890</td>\n",
       "      <td>M</td>\n",
       "    </tr>\n",
       "    <tr>\n",
       "      <th>1</th>\n",
       "      <td>20.57</td>\n",
       "      <td>17.77</td>\n",
       "      <td>132.90</td>\n",
       "      <td>1326.0</td>\n",
       "      <td>0.08474</td>\n",
       "      <td>0.07864</td>\n",
       "      <td>0.0869</td>\n",
       "      <td>0.07017</td>\n",
       "      <td>0.1812</td>\n",
       "      <td>0.05667</td>\n",
       "      <td>...</td>\n",
       "      <td>23.41</td>\n",
       "      <td>158.80</td>\n",
       "      <td>1956.0</td>\n",
       "      <td>0.1238</td>\n",
       "      <td>0.1866</td>\n",
       "      <td>0.2416</td>\n",
       "      <td>0.1860</td>\n",
       "      <td>0.2750</td>\n",
       "      <td>0.08902</td>\n",
       "      <td>M</td>\n",
       "    </tr>\n",
       "    <tr>\n",
       "      <th>2</th>\n",
       "      <td>19.69</td>\n",
       "      <td>21.25</td>\n",
       "      <td>130.00</td>\n",
       "      <td>1203.0</td>\n",
       "      <td>0.10960</td>\n",
       "      <td>0.15990</td>\n",
       "      <td>0.1974</td>\n",
       "      <td>0.12790</td>\n",
       "      <td>0.2069</td>\n",
       "      <td>0.05999</td>\n",
       "      <td>...</td>\n",
       "      <td>25.53</td>\n",
       "      <td>152.50</td>\n",
       "      <td>1709.0</td>\n",
       "      <td>0.1444</td>\n",
       "      <td>0.4245</td>\n",
       "      <td>0.4504</td>\n",
       "      <td>0.2430</td>\n",
       "      <td>0.3613</td>\n",
       "      <td>0.08758</td>\n",
       "      <td>M</td>\n",
       "    </tr>\n",
       "    <tr>\n",
       "      <th>3</th>\n",
       "      <td>11.42</td>\n",
       "      <td>20.38</td>\n",
       "      <td>77.58</td>\n",
       "      <td>386.1</td>\n",
       "      <td>0.14250</td>\n",
       "      <td>0.28390</td>\n",
       "      <td>0.2414</td>\n",
       "      <td>0.10520</td>\n",
       "      <td>0.2597</td>\n",
       "      <td>0.09744</td>\n",
       "      <td>...</td>\n",
       "      <td>26.50</td>\n",
       "      <td>98.87</td>\n",
       "      <td>567.7</td>\n",
       "      <td>0.2098</td>\n",
       "      <td>0.8663</td>\n",
       "      <td>0.6869</td>\n",
       "      <td>0.2575</td>\n",
       "      <td>0.6638</td>\n",
       "      <td>0.17300</td>\n",
       "      <td>M</td>\n",
       "    </tr>\n",
       "    <tr>\n",
       "      <th>4</th>\n",
       "      <td>20.29</td>\n",
       "      <td>14.34</td>\n",
       "      <td>135.10</td>\n",
       "      <td>1297.0</td>\n",
       "      <td>0.10030</td>\n",
       "      <td>0.13280</td>\n",
       "      <td>0.1980</td>\n",
       "      <td>0.10430</td>\n",
       "      <td>0.1809</td>\n",
       "      <td>0.05883</td>\n",
       "      <td>...</td>\n",
       "      <td>16.67</td>\n",
       "      <td>152.20</td>\n",
       "      <td>1575.0</td>\n",
       "      <td>0.1374</td>\n",
       "      <td>0.2050</td>\n",
       "      <td>0.4000</td>\n",
       "      <td>0.1625</td>\n",
       "      <td>0.2364</td>\n",
       "      <td>0.07678</td>\n",
       "      <td>M</td>\n",
       "    </tr>\n",
       "  </tbody>\n",
       "</table>\n",
       "<p>5 rows × 31 columns</p>\n",
       "</div>"
      ],
      "text/plain": [
       "   radius.mean  texture.mean  perimeter.mean  area.mean  smoothness.mean  \\\n",
       "0        17.99         10.38          122.80     1001.0          0.11840   \n",
       "1        20.57         17.77          132.90     1326.0          0.08474   \n",
       "2        19.69         21.25          130.00     1203.0          0.10960   \n",
       "3        11.42         20.38           77.58      386.1          0.14250   \n",
       "4        20.29         14.34          135.10     1297.0          0.10030   \n",
       "\n",
       "   compactness.mean  concavity.mean  concave points.mean  symmetry.mean  \\\n",
       "0           0.27760          0.3001              0.14710         0.2419   \n",
       "1           0.07864          0.0869              0.07017         0.1812   \n",
       "2           0.15990          0.1974              0.12790         0.2069   \n",
       "3           0.28390          0.2414              0.10520         0.2597   \n",
       "4           0.13280          0.1980              0.10430         0.1809   \n",
       "\n",
       "   fractal dimension    ...      texture.w  perimeter.w  area.w  smoothness.w  \\\n",
       "0            0.07871    ...          17.33       184.60  2019.0        0.1622   \n",
       "1            0.05667    ...          23.41       158.80  1956.0        0.1238   \n",
       "2            0.05999    ...          25.53       152.50  1709.0        0.1444   \n",
       "3            0.09744    ...          26.50        98.87   567.7        0.2098   \n",
       "4            0.05883    ...          16.67       152.20  1575.0        0.1374   \n",
       "\n",
       "   compactness.w  concavity.w  concave points.w  symmetry.w  \\\n",
       "0         0.6656       0.7119            0.2654      0.4601   \n",
       "1         0.1866       0.2416            0.1860      0.2750   \n",
       "2         0.4245       0.4504            0.2430      0.3613   \n",
       "3         0.8663       0.6869            0.2575      0.6638   \n",
       "4         0.2050       0.4000            0.1625      0.2364   \n",
       "\n",
       "   fractal dimension.w  Diagnosis  \n",
       "0              0.11890          M  \n",
       "1              0.08902          M  \n",
       "2              0.08758          M  \n",
       "3              0.17300          M  \n",
       "4              0.07678          M  \n",
       "\n",
       "[5 rows x 31 columns]"
      ]
     },
     "execution_count": 1762,
     "metadata": {},
     "output_type": "execute_result"
    }
   ],
   "source": [
    "#importing the dataset\n",
    "dataset = pd.read_csv('./data/Breast_Cancer_Data_CSV.csv')\n",
    "dataset.drop(['ID number'],axis=1,inplace=True)\n",
    "dataset.head()\n",
    "print(\"Cancer data set dimensions : {}\".format(dataset.shape))\n",
    "dataset.head()"
   ]
  },
  {
   "cell_type": "code",
   "execution_count": 1763,
   "metadata": {
    "collapsed": false,
    "scrolled": true
   },
   "outputs": [
    {
     "data": {
      "text/html": [
       "<div>\n",
       "<style scoped>\n",
       "    .dataframe tbody tr th:only-of-type {\n",
       "        vertical-align: middle;\n",
       "    }\n",
       "\n",
       "    .dataframe tbody tr th {\n",
       "        vertical-align: top;\n",
       "    }\n",
       "\n",
       "    .dataframe thead th {\n",
       "        text-align: right;\n",
       "    }\n",
       "</style>\n",
       "<table border=\"1\" class=\"dataframe\">\n",
       "  <thead>\n",
       "    <tr style=\"text-align: right;\">\n",
       "      <th></th>\n",
       "      <th>radius.mean</th>\n",
       "      <th>texture.mean</th>\n",
       "      <th>perimeter.mean</th>\n",
       "      <th>area.mean</th>\n",
       "      <th>smoothness.mean</th>\n",
       "      <th>compactness.mean</th>\n",
       "      <th>concavity.mean</th>\n",
       "      <th>concave points.mean</th>\n",
       "      <th>symmetry.mean</th>\n",
       "      <th>fractal dimension</th>\n",
       "      <th>...</th>\n",
       "      <th>texture.w</th>\n",
       "      <th>perimeter.w</th>\n",
       "      <th>area.w</th>\n",
       "      <th>smoothness.w</th>\n",
       "      <th>compactness.w</th>\n",
       "      <th>concavity.w</th>\n",
       "      <th>concave points.w</th>\n",
       "      <th>symmetry.w</th>\n",
       "      <th>fractal dimension.w</th>\n",
       "      <th>Diagnosis</th>\n",
       "    </tr>\n",
       "  </thead>\n",
       "  <tbody>\n",
       "    <tr>\n",
       "      <th>0</th>\n",
       "      <td>17.99</td>\n",
       "      <td>10.38</td>\n",
       "      <td>122.80</td>\n",
       "      <td>1001.0</td>\n",
       "      <td>0.11840</td>\n",
       "      <td>0.27760</td>\n",
       "      <td>0.3001</td>\n",
       "      <td>0.14710</td>\n",
       "      <td>0.2419</td>\n",
       "      <td>0.07871</td>\n",
       "      <td>...</td>\n",
       "      <td>17.33</td>\n",
       "      <td>184.60</td>\n",
       "      <td>2019.0</td>\n",
       "      <td>0.1622</td>\n",
       "      <td>0.6656</td>\n",
       "      <td>0.7119</td>\n",
       "      <td>0.2654</td>\n",
       "      <td>0.4601</td>\n",
       "      <td>0.11890</td>\n",
       "      <td>M</td>\n",
       "    </tr>\n",
       "    <tr>\n",
       "      <th>1</th>\n",
       "      <td>20.57</td>\n",
       "      <td>17.77</td>\n",
       "      <td>132.90</td>\n",
       "      <td>1326.0</td>\n",
       "      <td>0.08474</td>\n",
       "      <td>0.07864</td>\n",
       "      <td>0.0869</td>\n",
       "      <td>0.07017</td>\n",
       "      <td>0.1812</td>\n",
       "      <td>0.05667</td>\n",
       "      <td>...</td>\n",
       "      <td>23.41</td>\n",
       "      <td>158.80</td>\n",
       "      <td>1956.0</td>\n",
       "      <td>0.1238</td>\n",
       "      <td>0.1866</td>\n",
       "      <td>0.2416</td>\n",
       "      <td>0.1860</td>\n",
       "      <td>0.2750</td>\n",
       "      <td>0.08902</td>\n",
       "      <td>M</td>\n",
       "    </tr>\n",
       "    <tr>\n",
       "      <th>2</th>\n",
       "      <td>19.69</td>\n",
       "      <td>21.25</td>\n",
       "      <td>130.00</td>\n",
       "      <td>1203.0</td>\n",
       "      <td>0.10960</td>\n",
       "      <td>0.15990</td>\n",
       "      <td>0.1974</td>\n",
       "      <td>0.12790</td>\n",
       "      <td>0.2069</td>\n",
       "      <td>0.05999</td>\n",
       "      <td>...</td>\n",
       "      <td>25.53</td>\n",
       "      <td>152.50</td>\n",
       "      <td>1709.0</td>\n",
       "      <td>0.1444</td>\n",
       "      <td>0.4245</td>\n",
       "      <td>0.4504</td>\n",
       "      <td>0.2430</td>\n",
       "      <td>0.3613</td>\n",
       "      <td>0.08758</td>\n",
       "      <td>M</td>\n",
       "    </tr>\n",
       "    <tr>\n",
       "      <th>3</th>\n",
       "      <td>11.42</td>\n",
       "      <td>20.38</td>\n",
       "      <td>77.58</td>\n",
       "      <td>386.1</td>\n",
       "      <td>0.14250</td>\n",
       "      <td>0.28390</td>\n",
       "      <td>0.2414</td>\n",
       "      <td>0.10520</td>\n",
       "      <td>0.2597</td>\n",
       "      <td>0.09744</td>\n",
       "      <td>...</td>\n",
       "      <td>26.50</td>\n",
       "      <td>98.87</td>\n",
       "      <td>567.7</td>\n",
       "      <td>0.2098</td>\n",
       "      <td>0.8663</td>\n",
       "      <td>0.6869</td>\n",
       "      <td>0.2575</td>\n",
       "      <td>0.6638</td>\n",
       "      <td>0.17300</td>\n",
       "      <td>M</td>\n",
       "    </tr>\n",
       "    <tr>\n",
       "      <th>4</th>\n",
       "      <td>20.29</td>\n",
       "      <td>14.34</td>\n",
       "      <td>135.10</td>\n",
       "      <td>1297.0</td>\n",
       "      <td>0.10030</td>\n",
       "      <td>0.13280</td>\n",
       "      <td>0.1980</td>\n",
       "      <td>0.10430</td>\n",
       "      <td>0.1809</td>\n",
       "      <td>0.05883</td>\n",
       "      <td>...</td>\n",
       "      <td>16.67</td>\n",
       "      <td>152.20</td>\n",
       "      <td>1575.0</td>\n",
       "      <td>0.1374</td>\n",
       "      <td>0.2050</td>\n",
       "      <td>0.4000</td>\n",
       "      <td>0.1625</td>\n",
       "      <td>0.2364</td>\n",
       "      <td>0.07678</td>\n",
       "      <td>M</td>\n",
       "    </tr>\n",
       "  </tbody>\n",
       "</table>\n",
       "<p>5 rows × 31 columns</p>\n",
       "</div>"
      ],
      "text/plain": [
       "   radius.mean  texture.mean  perimeter.mean  area.mean  smoothness.mean  \\\n",
       "0        17.99         10.38          122.80     1001.0          0.11840   \n",
       "1        20.57         17.77          132.90     1326.0          0.08474   \n",
       "2        19.69         21.25          130.00     1203.0          0.10960   \n",
       "3        11.42         20.38           77.58      386.1          0.14250   \n",
       "4        20.29         14.34          135.10     1297.0          0.10030   \n",
       "\n",
       "   compactness.mean  concavity.mean  concave points.mean  symmetry.mean  \\\n",
       "0           0.27760          0.3001              0.14710         0.2419   \n",
       "1           0.07864          0.0869              0.07017         0.1812   \n",
       "2           0.15990          0.1974              0.12790         0.2069   \n",
       "3           0.28390          0.2414              0.10520         0.2597   \n",
       "4           0.13280          0.1980              0.10430         0.1809   \n",
       "\n",
       "   fractal dimension    ...      texture.w  perimeter.w  area.w  smoothness.w  \\\n",
       "0            0.07871    ...          17.33       184.60  2019.0        0.1622   \n",
       "1            0.05667    ...          23.41       158.80  1956.0        0.1238   \n",
       "2            0.05999    ...          25.53       152.50  1709.0        0.1444   \n",
       "3            0.09744    ...          26.50        98.87   567.7        0.2098   \n",
       "4            0.05883    ...          16.67       152.20  1575.0        0.1374   \n",
       "\n",
       "   compactness.w  concavity.w  concave points.w  symmetry.w  \\\n",
       "0         0.6656       0.7119            0.2654      0.4601   \n",
       "1         0.1866       0.2416            0.1860      0.2750   \n",
       "2         0.4245       0.4504            0.2430      0.3613   \n",
       "3         0.8663       0.6869            0.2575      0.6638   \n",
       "4         0.2050       0.4000            0.1625      0.2364   \n",
       "\n",
       "   fractal dimension.w  Diagnosis  \n",
       "0              0.11890          M  \n",
       "1              0.08902          M  \n",
       "2              0.08758          M  \n",
       "3              0.17300          M  \n",
       "4              0.07678          M  \n",
       "\n",
       "[5 rows x 31 columns]"
      ]
     },
     "execution_count": 1763,
     "metadata": {},
     "output_type": "execute_result"
    }
   ],
   "source": [
    "dataset.head()"
   ]
  },
  {
   "cell_type": "code",
   "execution_count": 1764,
   "metadata": {
    "collapsed": false
   },
   "outputs": [],
   "source": [
    "#features list"
   ]
  },
  {
   "cell_type": "code",
   "execution_count": 1765,
   "metadata": {
    "collapsed": false
   },
   "outputs": [],
   "source": [
    "# select features\n",
    "features=list(dataset.columns[[1,2,3,4,5,6,7,23,26,27]])\n",
    "features.append(dataset.columns[-1])\n",
    "dataset = dataset[features]"
   ]
  },
  {
   "cell_type": "code",
   "execution_count": 1766,
   "metadata": {
    "collapsed": false,
    "scrolled": true
   },
   "outputs": [
    {
     "name": "stderr",
     "output_type": "stream",
     "text": [
      "WARNING: Some output was deleted.\n"
     ]
    }
   ],
   "source": [
    "dataset"
   ]
  },
  {
   "cell_type": "code",
   "execution_count": 1767,
   "metadata": {
    "collapsed": false
   },
   "outputs": [],
   "source": [
    "# split dataframe into two based on diagnosis\n",
    "dfM=dataset[dataset['Diagnosis'] ==1]\n",
    "dfB=dataset[dataset['Diagnosis'] ==0]\n",
    "dataset1 = shuffle(dataset)\n",
    "X = dataset1.iloc[:, :-1].values\n",
    "Y = dataset1.iloc[:, -1].values\n",
    "labelencoder_Y = LabelEncoder()\n",
    "Y = labelencoder_Y.fit_transform(Y)\n",
    "#Encoding categorical data values \n",
    "# split our dataset into training and testing datasets\n",
    "X_train, X_test, y_train, y_test = train_test_split(X, Y, test_size =     0.3, random_state = 0)\n",
    "scaler = StandardScaler().fit(X_train)\n",
    "X_train = scaler.transform(X_train)\n",
    "X_test = scaler.transform(X_test)"
   ]
  },
  {
   "cell_type": "code",
   "execution_count": 1768,
   "metadata": {
    "collapsed": false
   },
   "outputs": [],
   "source": [
    "def values_confusion_matrix(y_test,y_pred):\n",
    "    cm=confusion_matrix(y_test,y_pred)\n",
    "    conf_matrix=pd.DataFrame(data=cm,columns=['Predicted:0','Predicted:1'],index=['Actual:0','Actual:1'])\n",
    "    TN=cm[0,0]\n",
    "    TP=cm[1,1]\n",
    "    FN=cm[1,0]\n",
    "    FP=cm[0,1]\n",
    "    Accuracy=round((TN+TP)/float(TN+TP+FN+FP),3)\n",
    "    Misclassification=1-Accuracy\n",
    "    Sensitivity=round(TP/(float(TP+FN)),3)\n",
    "    Specifity=round(TN/(float(TN+cm[0,1])),3)\n",
    "    not_detected=round(FN/(FN+TN),5)\n",
    "    a=np.array([Accuracy,Sensitivity,Specifity, not_detected])\n",
    "    return(a)"
   ]
  },
  {
   "cell_type": "code",
   "execution_count": 1769,
   "metadata": {
    "collapsed": false
   },
   "outputs": [],
   "source": [
    "def draw_confusion_matrix(y_test,y_pred):\n",
    "    cm=confusion_matrix(y_test,y_pred)\n",
    "    conf_matrix=pd.DataFrame(data=cm,columns=['Predicted:0','Predicted:1'],index=['Actual:0','Actual:1'])\n",
    "    TN=cm[0,0]\n",
    "    TP=cm[1,1]\n",
    "    FN=cm[1,0]\n",
    "    FP=cm[0,1]\n",
    "    Accuracy=round((TN+TP)/float(TN+TP+FN+FP),3)\n",
    "    Misclassification=1-Accuracy\n",
    "    Sensitivity=round(TP/(float(TP+FN)),3)\n",
    "    Specifity=round(TN/(float(TN+cm[0,1])),3)\n",
    "    not_detected=round(FN/(FN+TN),5)\n",
    "    print ('Accuracy=',Accuracy,'Sensitivity=', Sensitivity, 'Specifity=' ,Specifity,' notdetected=' , not_detected)\n",
    "    plt.figure(figsize = (8,5))\n",
    "    sn.heatmap(conf_matrix, annot=True,fmt='d',cmap=\"YlGnBu\")"
   ]
  },
  {
   "cell_type": "code",
   "execution_count": 1770,
   "metadata": {
    "collapsed": false
   },
   "outputs": [],
   "source": [
    "def dt_model_index_max():\n",
    "    dt_scores = []\n",
    "    for i in range(1, (X.shape[1]) + 1):\n",
    "        dt_classifier = DecisionTreeClassifier(max_features = i,                   random_state     = 0)\n",
    "        dt_classifier.fit(X_train, y_train)\n",
    "        dt_scores.append(dt_classifier.score(X_test, y_test))\n",
    "    t=max(dt_scores)\n",
    "    ind_max=dt_scores.index(t)+1\n",
    "    print(\"max score is\", t, \"max score is at index\" ,ind_max)\n",
    "    return(ind_max)"
   ]
  },
  {
   "cell_type": "code",
   "execution_count": 1771,
   "metadata": {
    "collapsed": false
   },
   "outputs": [],
   "source": [
    "def dt_print_max_features():\n",
    "    dt_scores = []\n",
    "    for i in range(1, (X.shape[1]) + 1):\n",
    "        dt_classifier = DecisionTreeClassifier(max_features = i, random_state=0)\n",
    "        dt_classifier.fit(X_train, y_train)\n",
    "        dt_scores.append(dt_classifier.score(X_test, y_test))\n",
    "    plt.plot([i for i in range(1, (X.shape[1]) + 1)], dt_scores, color='green')\n",
    "    for i in range(1, (X.shape[1]) + 1):\n",
    "        plt.text(i, dt_scores[i-1],  (i))\n",
    "        plt.xticks([i for i in range(1, X.shape[1] + 1)])\n",
    "        plt.xlabel('Max features')\n",
    "        plt.ylabel('Scores')\n",
    "        plt.title('Decision Tree Classifier scores for different number of         maximum features')"
   ]
  },
  {
   "cell_type": "code",
   "execution_count": 1772,
   "metadata": {
    "collapsed": false
   },
   "outputs": [],
   "source": [
    "def dt_model():\n",
    "    dt_classifier = DecisionTreeClassifier(max_features=dt_model_index_max())\n",
    "    dt=dt_classifier\n",
    "    dt.fit(X_train, y_train)\n",
    "    y_pred=dt.predict(X_test)\n",
    "    print(\"score=\",dt.score(X_test, y_test) )\n",
    "    draw_confusion_matrix(y_test,y_pred)"
   ]
  },
  {
   "cell_type": "code",
   "execution_count": 1773,
   "metadata": {
    "collapsed": false
   },
   "outputs": [
    {
     "name": "stdout",
     "output_type": "stream",
     "text": [
      "max score is 0.9532163742690059 max score is at index 4\n",
      "score= 0.9298245614035088\n",
      "Accuracy= 0.93 Sensitivity= 0.85 Specifity= 0.973  notdetected= 0.07692\n"
     ]
    },
    {
     "data": {
      "image/png": "[encoded data removed]",
      "text/plain": [
       "<Figure size 576x360 with 2 Axes>"
      ]
     },
     "execution_count": 1773,
     "metadata": {
      "image/png": {
       "height": 304,
       "width": 450
      },
      "needs_background": "light"
     },
     "output_type": "execute_result"
    }
   ],
   "source": [
    "dt_model()"
   ]
  },
  {
   "cell_type": "code",
   "execution_count": 1774,
   "metadata": {
    "collapsed": false
   },
   "outputs": [],
   "source": [
    "def dt_model_1():\n",
    "    dt_classifier = DecisionTreeClassifier(max_features=dt_model_index_max())\n",
    "    dt=dt_classifier\n",
    "    dt.fit(X_train, y_train)\n",
    "    y_pred=dt.predict(X_test)\n",
    "    return(y_pred)"
   ]
  },
  {
   "cell_type": "code",
   "execution_count": 1775,
   "metadata": {
    "collapsed": false
   },
   "outputs": [
    {
     "name": "stdout",
     "output_type": "stream",
     "text": [
      "max score is 0.9532163742690059 max score is at index 4\n"
     ]
    },
    {
     "data": {
      "text/plain": [
       "array([0, 1, 0, 1, 1, 1, 0, 0, 0, 0, 0, 0, 1, 0, 1, 0, 0, 0, 1, 0, 1, 0,\n",
       "       0, 0, 0, 0, 0, 0, 0, 1, 0, 1, 0, 1, 1, 0, 1, 0, 1, 0, 0, 0, 0, 0,\n",
       "       1, 0, 0, 0, 0, 0, 0, 1, 0, 0, 0, 0, 1, 1, 1, 1, 1, 0, 0, 1, 0, 0,\n",
       "       0, 0, 0, 0, 0, 1, 0, 0, 0, 1, 1, 0, 0, 0, 1, 0, 1, 1, 0, 0, 1, 0,\n",
       "       0, 0, 0, 0, 0, 0, 0, 0, 0, 0, 1, 0, 1, 1, 1, 0, 0, 1, 0, 0, 0, 1,\n",
       "       1, 0, 1, 0, 1, 0, 0, 0, 1, 0, 0, 1, 0, 0, 1, 1, 1, 0, 0, 0, 0, 0,\n",
       "       1, 1, 0, 0, 1, 0, 0, 0, 0, 0, 1, 1, 0, 0, 1, 0, 0, 1, 1, 0, 1, 1,\n",
       "       0, 1, 0, 1, 0, 0, 0, 1, 1, 0, 0, 1, 0, 0, 0, 0, 0])"
      ]
     },
     "execution_count": 1775,
     "metadata": {},
     "output_type": "execute_result"
    }
   ],
   "source": [
    "dt_model_1()"
   ]
  },
  {
   "cell_type": "code",
   "execution_count": 1776,
   "metadata": {
    "collapsed": false
   },
   "outputs": [
    {
     "data": {
      "image/png": "[encoded data removed]",
      "text/plain": [
       "<Figure size 432x288 with 1 Axes>"
      ]
     },
     "execution_count": 1776,
     "metadata": {
      "image/png": {
       "height": 277,
       "width": 486
      },
      "needs_background": "light"
     },
     "output_type": "execute_result"
    }
   ],
   "source": [
    "dt_print_max_features()"
   ]
  },
  {
   "cell_type": "code",
   "execution_count": 1777,
   "metadata": {
    "collapsed": false
   },
   "outputs": [],
   "source": [
    "def find_features_importance(n):\n",
    "    clf = DecisionTreeClassifier(max_features =                     X.shape[1],random_state = 0)\n",
    "    clf = clf.fit(X_train, y_train)\n",
    "    importances = clf.feature_importances_\n",
    "    idx = (-importances).argsort()[:n]\n",
    "    print( idx)"
   ]
  },
  {
   "cell_type": "code",
   "execution_count": 1778,
   "metadata": {
    "collapsed": false
   },
   "outputs": [
    {
     "name": "stdout",
     "output_type": "stream",
     "text": [
      "[7 9 0 3 5 8 2 1 4 6]\n"
     ]
    }
   ],
   "source": [
    "find_features_importance(10)"
   ]
  },
  {
   "cell_type": "code",
   "execution_count": 1779,
   "metadata": {
    "collapsed": false
   },
   "outputs": [],
   "source": [
    "def cross_valid_score(n):\n",
    "    clf =  DecisionTreeClassifier(max_features=10)\n",
    "    scores = cross_val_score(clf, X, Y, cv=n)\n",
    "    print('average=',np.average(scores),'std=', np.std(scores))"
   ]
  },
  {
   "cell_type": "code",
   "execution_count": 1780,
   "metadata": {
    "collapsed": false
   },
   "outputs": [
    {
     "name": "stdout",
     "output_type": "stream",
     "text": [
      "average= 0.9349749903809157 std= 0.014352117274797708\n"
     ]
    }
   ],
   "source": [
    "cross_valid_score(5)"
   ]
  },
  {
   "cell_type": "code",
   "execution_count": 1781,
   "metadata": {
    "collapsed": false,
    "scrolled": true
   },
   "outputs": [
    {
     "name": "stdout",
     "output_type": "stream",
     "text": [
      "max score is 0.9649122807017544 max score is at index 5\n",
      "max score is 0.9590643274853801 max score is at index 5\n",
      "max score is 0.9590643274853801 max score is at index 2\n"
     ]
    },
    {
     "name": "stdout",
     "output_type": "stream",
     "text": [
      "max score is 0.935672514619883 max score is at index 7\n",
      "max score is 0.9824561403508771 max score is at index 9\n"
     ]
    },
    {
     "name": "stdout",
     "output_type": "stream",
     "text": [
      "max score is 0.9415204678362573 max score is at index 1\n",
      "max score is 0.9707602339181286 max score is at index 6\n"
     ]
    },
    {
     "name": "stdout",
     "output_type": "stream",
     "text": [
      "max score is 0.9473684210526315 max score is at index 10\n",
      "max score is 0.9239766081871345 max score is at index 4\n",
      "max score is 0.9590643274853801 max score is at index 2\n"
     ]
    },
    {
     "name": "stdout",
     "output_type": "stream",
     "text": [
      "max score is 0.9532163742690059 max score is at index 3\n",
      "max score is 0.9649122807017544 max score is at index 7\n"
     ]
    },
    {
     "name": "stdout",
     "output_type": "stream",
     "text": [
      "max score is 0.9532163742690059 max score is at index 5\n",
      "max score is 0.9649122807017544 max score is at index 3\n"
     ]
    },
    {
     "name": "stdout",
     "output_type": "stream",
     "text": [
      "max score is 0.9590643274853801 max score is at index 6\n",
      "max score is 0.9649122807017544 max score is at index 3\n",
      "max score is 0.9415204678362573 max score is at index 6\n"
     ]
    },
    {
     "name": "stdout",
     "output_type": "stream",
     "text": [
      "max score is 0.9532163742690059 max score is at index 7\n",
      "max score is 0.9590643274853801 max score is at index 1\n"
     ]
    },
    {
     "name": "stdout",
     "output_type": "stream",
     "text": [
      "max score is 0.9298245614035088 max score is at index 2\n",
      "max score is 0.9707602339181286 max score is at index 9\n"
     ]
    },
    {
     "name": "stdout",
     "output_type": "stream",
     "text": [
      "max score is 0.9590643274853801 max score is at index 1\n",
      "max score is 0.935672514619883 max score is at index 2\n"
     ]
    },
    {
     "name": "stdout",
     "output_type": "stream",
     "text": [
      "max score is 0.9473684210526315 max score is at index 2\n",
      "max score is 0.9590643274853801 max score is at index 7\n",
      "max score is 0.9766081871345029 max score is at index 7\n"
     ]
    },
    {
     "name": "stdout",
     "output_type": "stream",
     "text": [
      "max score is 0.9590643274853801 max score is at index 5\n",
      "max score is 0.9473684210526315 max score is at index 3\n"
     ]
    },
    {
     "name": "stdout",
     "output_type": "stream",
     "text": [
      "max score is 0.9532163742690059 max score is at index 7\n",
      "max score is 0.9532163742690059 max score is at index 4\n"
     ]
    },
    {
     "name": "stdout",
     "output_type": "stream",
     "text": [
      "max score is 0.9590643274853801 max score is at index 2\n",
      "max score is 0.9473684210526315 max score is at index 8\n",
      "max score is 0.9649122807017544 max score is at index 8\n"
     ]
    },
    {
     "name": "stdout",
     "output_type": "stream",
     "text": [
      "max score is 0.9473684210526315 max score is at index 8\n"
     ]
    },
    {
     "name": "stdout",
     "output_type": "stream",
     "text": [
      "max score is 0.9532163742690059 max score is at index 2\n",
      "max score is 0.9415204678362573 max score is at index 8\n",
      "max score is 0.9298245614035088 max score is at index 2\n"
     ]
    },
    {
     "name": "stdout",
     "output_type": "stream",
     "text": [
      "max score is 0.935672514619883 max score is at index 6\n",
      "max score is 0.9766081871345029 max score is at index 9\n",
      "max score is 0.9590643274853801 max score is at index 5\n"
     ]
    },
    {
     "name": "stdout",
     "output_type": "stream",
     "text": [
      "max score is 0.9649122807017544 max score is at index 4\n"
     ]
    },
    {
     "name": "stdout",
     "output_type": "stream",
     "text": [
      "max score is 0.9590643274853801 max score is at index 3\n",
      "max score is 0.9473684210526315 max score is at index 5\n",
      "max score is 0.9473684210526315 max score is at index 1\n"
     ]
    },
    {
     "name": "stdout",
     "output_type": "stream",
     "text": [
      "max score is 0.9473684210526315 max score is at index 3\n",
      "max score is 0.9532163742690059 max score is at index 8\n",
      "max score is 0.9590643274853801 max score is at index 5\n"
     ]
    },
    {
     "name": "stdout",
     "output_type": "stream",
     "text": [
      "max score is 0.9649122807017544 max score is at index 5\n",
      "max score is 0.9298245614035088 max score is at index 1\n"
     ]
    },
    {
     "name": "stdout",
     "output_type": "stream",
     "text": [
      "max score is 0.9532163742690059 max score is at index 7\n",
      "max score is 0.9590643274853801 max score is at index 8\n",
      "max score is 0.9532163742690059 max score is at index 6\n",
      "max score is 0.9473684210526315 max score is at index 1\n"
     ]
    },
    {
     "name": "stdout",
     "output_type": "stream",
     "text": [
      "max score is 0.9649122807017544 max score is at index 9\n",
      "max score is 0.9181286549707602 max score is at index 3\n"
     ]
    },
    {
     "name": "stdout",
     "output_type": "stream",
     "text": [
      "max score is 0.9590643274853801 max score is at index 7\n",
      "max score is 0.9532163742690059 max score is at index 8\n"
     ]
    },
    {
     "name": "stdout",
     "output_type": "stream",
     "text": [
      "max score is 0.9532163742690059 max score is at index 9\n",
      "max score is 0.9532163742690059 max score is at index 6\n",
      "max score is 0.9649122807017544 max score is at index 2\n",
      "max score is 0.9532163742690059 max score is at index 4\n",
      "max score is 0.9415204678362573 max score is at index 6\n"
     ]
    },
    {
     "name": "stdout",
     "output_type": "stream",
     "text": [
      "max score is 0.9649122807017544 max score is at index 1\n",
      "max score is 0.935672514619883 max score is at index 6\n"
     ]
    },
    {
     "name": "stdout",
     "output_type": "stream",
     "text": [
      "max score is 0.9473684210526315 max score is at index 1\n",
      "max score is 0.9298245614035088 max score is at index 8\n",
      "max score is 0.9649122807017544 max score is at index 4\n"
     ]
    },
    {
     "name": "stdout",
     "output_type": "stream",
     "text": [
      "max score is 0.9473684210526315 max score is at index 3\n",
      "max score is 0.9707602339181286 max score is at index 9\n",
      "max score is 0.9707602339181286 max score is at index 4\n",
      "max score is 0.9532163742690059 max score is at index 2\n"
     ]
    },
    {
     "name": "stdout",
     "output_type": "stream",
     "text": [
      "max score is 0.9590643274853801 max score is at index 9\n",
      "max score is 0.9415204678362573 max score is at index 3\n"
     ]
    },
    {
     "name": "stdout",
     "output_type": "stream",
     "text": [
      "max score is 0.935672514619883 max score is at index 2\n",
      "max score is 0.9766081871345029 max score is at index 6\n",
      "max score is 0.9707602339181286 max score is at index 8\n"
     ]
    },
    {
     "name": "stdout",
     "output_type": "stream",
     "text": [
      "max score is 0.935672514619883 max score is at index 4\n",
      "max score is 0.9766081871345029 max score is at index 6\n",
      "max score is 0.9415204678362573 max score is at index 6\n"
     ]
    },
    {
     "name": "stdout",
     "output_type": "stream",
     "text": [
      "max score is 0.9649122807017544 max score is at index 2\n",
      "max score is 0.9649122807017544 max score is at index 5\n"
     ]
    },
    {
     "name": "stdout",
     "output_type": "stream",
     "text": [
      "max score is 0.9649122807017544 max score is at index 5\n",
      "max score is 0.9415204678362573 max score is at index 6\n",
      "max score is 0.9707602339181286 max score is at index 6\n"
     ]
    },
    {
     "name": "stdout",
     "output_type": "stream",
     "text": [
      "max score is 0.9415204678362573 max score is at index 1\n",
      "max score is 0.9473684210526315 max score is at index 3\n",
      "max score is 0.9707602339181286 max score is at index 9\n",
      "max score is 0.9532163742690059 max score is at index 1\n"
     ]
    },
    {
     "name": "stdout",
     "output_type": "stream",
     "text": [
      "max score is 0.9649122807017544 max score is at index 6\n"
     ]
    },
    {
     "name": "stdout",
     "output_type": "stream",
     "text": [
      "max score is 0.935672514619883 max score is at index 3\n",
      "max score is 0.9473684210526315 max score is at index 2\n",
      "max score is 0.9532163742690059 max score is at index 7\n"
     ]
    },
    {
     "name": "stdout",
     "output_type": "stream",
     "text": [
      "max score is 0.935672514619883 max score is at index 2\n",
      "max score is 0.9239766081871345 max score is at index 1\n",
      "max score is 0.9532163742690059 max score is at index 8\n",
      "max score is 0.9649122807017544 max score is at index 4\n",
      "max score is 0.935672514619883 max score is at index 4\n"
     ]
    },
    {
     "name": "stdout",
     "output_type": "stream",
     "text": [
      "max score is 0.9473684210526315 max score is at index 2\n"
     ]
    },
    {
     "name": "stdout",
     "output_type": "stream",
     "text": [
      "max score is 0.9532163742690059 max score is at index 2\n",
      "max score is 0.9590643274853801 max score is at index 4\n",
      "max score is 0.9766081871345029 max score is at index 3\n"
     ]
    },
    {
     "name": "stdout",
     "output_type": "stream",
     "text": [
      "max score is 0.9649122807017544 max score is at index 9\n",
      "max score is 0.9298245614035088 max score is at index 3\n",
      "max score is 0.9473684210526315 max score is at index 1\n",
      "max score is 0.9473684210526315 max score is at index 9\n"
     ]
    },
    {
     "name": "stdout",
     "output_type": "stream",
     "text": [
      "max score is 0.9707602339181286 max score is at index 3\n",
      "max score is 0.9532163742690059 max score is at index 1\n",
      "max score is 0.9532163742690059 max score is at index 7\n"
     ]
    },
    {
     "name": "stdout",
     "output_type": "stream",
     "text": [
      "max score is 0.9532163742690059 max score is at index 5\n",
      "max score is 0.9590643274853801 max score is at index 2\n",
      "max score is 0.9532163742690059 max score is at index 7\n",
      "max score is 0.9532163742690059 max score is at index 10\n",
      "max score is 0.9707602339181286 max score is at index 9\n",
      "max score is 0.9649122807017544 max score is at index 9\n"
     ]
    },
    {
     "name": "stdout",
     "output_type": "stream",
     "text": [
      "max score is 0.9824561403508771 max score is at index 7\n",
      "max score is 0.9473684210526315 max score is at index 7\n",
      "max score is 0.9415204678362573 max score is at index 3\n"
     ]
    },
    {
     "name": "stdout",
     "output_type": "stream",
     "text": [
      "max score is 0.9649122807017544 max score is at index 10\n",
      "max score is 0.9532163742690059 max score is at index 7\n",
      "max score is 0.9415204678362573 max score is at index 6\n",
      "max score is 0.9766081871345029 max score is at index 10\n",
      "max score is 0.9649122807017544 max score is at index 5\n",
      "max score is 0.9239766081871345 max score is at index 2\n"
     ]
    },
    {
     "name": "stdout",
     "output_type": "stream",
     "text": [
      "max score is 0.9473684210526315 max score is at index 6\n",
      "max score is 0.9590643274853801 max score is at index 3\n",
      "max score is 0.9766081871345029 max score is at index 8\n"
     ]
    },
    {
     "name": "stdout",
     "output_type": "stream",
     "text": [
      "max score is 0.9532163742690059 max score is at index 5\n",
      "max score is 0.9766081871345029 max score is at index 9\n",
      "max score is 0.9532163742690059 max score is at index 6\n",
      "max score is 0.9532163742690059 max score is at index 3\n",
      "max score is 0.9415204678362573 max score is at index 1\n",
      "max score is 0.9707602339181286 max score is at index 7\n"
     ]
    },
    {
     "name": "stdout",
     "output_type": "stream",
     "text": [
      "max score is 0.9707602339181286 max score is at index 4\n",
      "max score is 0.9649122807017544 max score is at index 7\n",
      "max score is 0.9649122807017544 max score is at index 1\n"
     ]
    },
    {
     "name": "stdout",
     "output_type": "stream",
     "text": [
      "max score is 0.9415204678362573 max score is at index 3\n",
      "max score is 0.9590643274853801 max score is at index 10\n",
      "max score is 0.935672514619883 max score is at index 6\n",
      "max score is 0.9415204678362573 max score is at index 10\n",
      "max score is 0.9532163742690059 max score is at index 1\n"
     ]
    },
    {
     "name": "stdout",
     "output_type": "stream",
     "text": [
      "max score is 0.935672514619883 max score is at index 4\n",
      "max score is 0.9473684210526315 max score is at index 9\n",
      "max score is 0.9649122807017544 max score is at index 3\n"
     ]
    },
    {
     "name": "stdout",
     "output_type": "stream",
     "text": [
      "max score is 0.935672514619883 max score is at index 5\n",
      "max score is 0.9415204678362573 max score is at index 2\n",
      "max score is 0.9415204678362573 max score is at index 8\n",
      "max score is 0.9473684210526315 max score is at index 8\n",
      "max score is 0.9532163742690059 max score is at index 4\n",
      "max score is 0.9707602339181286 max score is at index 6\n"
     ]
    },
    {
     "name": "stdout",
     "output_type": "stream",
     "text": [
      "max score is 0.9532163742690059 max score is at index 8\n",
      "max score is 0.9473684210526315 max score is at index 9\n",
      "max score is 0.9649122807017544 max score is at index 3\n"
     ]
    },
    {
     "name": "stdout",
     "output_type": "stream",
     "text": [
      "max score is 0.9649122807017544 max score is at index 5\n",
      "max score is 0.9707602339181286 max score is at index 2\n",
      "max score is 0.9473684210526315 max score is at index 6\n",
      "max score is 0.9590643274853801 max score is at index 2\n",
      "max score is 0.9473684210526315 max score is at index 6\n",
      "max score is 0.935672514619883 max score is at index 2\n"
     ]
    },
    {
     "name": "stdout",
     "output_type": "stream",
     "text": [
      "max score is 0.9415204678362573 max score is at index 9\n",
      "max score is 0.9532163742690059 max score is at index 5\n",
      "max score is 0.9532163742690059 max score is at index 9\n"
     ]
    },
    {
     "name": "stdout",
     "output_type": "stream",
     "text": [
      "max score is 0.935672514619883 max score is at index 3\n",
      "max score is 0.9590643274853801 max score is at index 6\n",
      "max score is 0.9532163742690059 max score is at index 7\n",
      "max score is 0.9766081871345029 max score is at index 2\n",
      "max score is 0.9532163742690059 max score is at index 8\n",
      "max score is 0.9532163742690059 max score is at index 1\n",
      "max score is 0.9473684210526315 max score is at index 3\n"
     ]
    },
    {
     "name": "stdout",
     "output_type": "stream",
     "text": [
      "max score is 0.935672514619883 max score is at index 2\n",
      "max score is 0.9473684210526315 max score is at index 10\n",
      "max score is 0.9415204678362573 max score is at index 6\n"
     ]
    },
    {
     "name": "stdout",
     "output_type": "stream",
     "text": [
      "max score is 0.9707602339181286 max score is at index 9\n",
      "max score is 0.9649122807017544 max score is at index 4\n",
      "max score is 0.9473684210526315 max score is at index 10\n",
      "max score is 0.9473684210526315 max score is at index 4\n",
      "max score is 0.9707602339181286 max score is at index 7\n",
      "max score is 0.9649122807017544 max score is at index 7\n"
     ]
    },
    {
     "name": "stdout",
     "output_type": "stream",
     "text": [
      "max score is 0.9649122807017544 max score is at index 3\n",
      "max score is 0.9707602339181286 max score is at index 6\n",
      "max score is 0.9532163742690059 max score is at index 3\n"
     ]
    },
    {
     "name": "stdout",
     "output_type": "stream",
     "text": [
      "max score is 0.9532163742690059 max score is at index 3\n",
      "max score is 0.9766081871345029 max score is at index 8\n",
      "max score is 0.935672514619883 max score is at index 2\n",
      "max score is 0.9473684210526315 max score is at index 5\n"
     ]
    },
    {
     "name": "stdout",
     "output_type": "stream",
     "text": [
      "max score is 0.935672514619883 max score is at index 2\n",
      "max score is 0.9707602339181286 max score is at index 6\n"
     ]
    },
    {
     "name": "stdout",
     "output_type": "stream",
     "text": [
      "max score is 0.9532163742690059 max score is at index 5\n",
      "max score is 0.9590643274853801 max score is at index 3\n",
      "max score is 0.9473684210526315 max score is at index 6\n"
     ]
    },
    {
     "name": "stdout",
     "output_type": "stream",
     "text": [
      "max score is 0.9532163742690059 max score is at index 6\n",
      "max score is 0.9532163742690059 max score is at index 4\n",
      "max score is 0.9824561403508771 max score is at index 6\n",
      "max score is 0.9532163742690059 max score is at index 1\n"
     ]
    },
    {
     "name": "stdout",
     "output_type": "stream",
     "text": [
      "max score is 0.9590643274853801 max score is at index 6\n",
      "max score is 0.9473684210526315 max score is at index 5\n",
      "max score is 0.935672514619883 max score is at index 2\n",
      "max score is 0.935672514619883 max score is at index 5\n"
     ]
    },
    {
     "name": "stdout",
     "output_type": "stream",
     "text": [
      "max score is 0.9766081871345029 max score is at index 3\n",
      "max score is 0.9707602339181286 max score is at index 6\n",
      "max score is 0.9298245614035088 max score is at index 4\n",
      "max score is 0.9590643274853801 max score is at index 9\n",
      "max score is 0.9707602339181286 max score is at index 7\n"
     ]
    },
    {
     "name": "stdout",
     "output_type": "stream",
     "text": [
      "max score is 0.9707602339181286 max score is at index 3\n",
      "max score is 0.9415204678362573 max score is at index 4\n",
      "max score is 0.9473684210526315 max score is at index 2\n",
      "max score is 0.9532163742690059 max score is at index 7\n"
     ]
    },
    {
     "name": "stdout",
     "output_type": "stream",
     "text": [
      "max score is 0.9415204678362573 max score is at index 5\n",
      "max score is 0.9649122807017544 max score is at index 2\n",
      "max score is 0.9766081871345029 max score is at index 2\n",
      "max score is 0.9473684210526315 max score is at index 5\n",
      "max score is 0.935672514619883 max score is at index 1\n"
     ]
    },
    {
     "name": "stdout",
     "output_type": "stream",
     "text": [
      "max score is 0.9473684210526315 max score is at index 8\n",
      "max score is 0.9590643274853801 max score is at index 7\n",
      "max score is 0.9473684210526315 max score is at index 8\n",
      "max score is 0.9415204678362573 max score is at index 1\n",
      "max score is 0.9473684210526315 max score is at index 3\n"
     ]
    },
    {
     "name": "stdout",
     "output_type": "stream",
     "text": [
      "max score is 0.9473684210526315 max score is at index 9\n",
      "max score is 0.9181286549707602 max score is at index 6\n",
      "max score is 0.9766081871345029 max score is at index 8\n",
      "max score is 0.9590643274853801 max score is at index 1\n",
      "max score is 0.9473684210526315 max score is at index 7\n"
     ]
    },
    {
     "name": "stdout",
     "output_type": "stream",
     "text": [
      "max score is 0.9473684210526315 max score is at index 9\n",
      "max score is 0.9590643274853801 max score is at index 4\n",
      "max score is 0.9532163742690059 max score is at index 4\n",
      "max score is 0.9532163742690059 max score is at index 2\n",
      "max score is 0.9707602339181286 max score is at index 3\n"
     ]
    },
    {
     "name": "stdout",
     "output_type": "stream",
     "text": [
      "max score is 0.9590643274853801 max score is at index 5\n",
      "max score is 0.9415204678362573 max score is at index 1\n",
      "max score is 0.9590643274853801 max score is at index 6\n",
      "max score is 0.9649122807017544 max score is at index 1\n"
     ]
    },
    {
     "name": "stdout",
     "output_type": "stream",
     "text": [
      "max score is 0.9415204678362573 max score is at index 6\n",
      "max score is 0.9649122807017544 max score is at index 7\n",
      "max score is 0.9532163742690059 max score is at index 6\n",
      "max score is 0.9649122807017544 max score is at index 7\n",
      "max score is 0.9707602339181286 max score is at index 5\n"
     ]
    },
    {
     "name": "stdout",
     "output_type": "stream",
     "text": [
      "max score is 0.9473684210526315 max score is at index 2\n",
      "max score is 0.9415204678362573 max score is at index 2\n",
      "max score is 0.9473684210526315 max score is at index 5\n",
      "max score is 0.9473684210526315 max score is at index 5\n"
     ]
    },
    {
     "name": "stdout",
     "output_type": "stream",
     "text": [
      "max score is 0.9298245614035088 max score is at index 5\n",
      "max score is 0.9766081871345029 max score is at index 8\n",
      "max score is 0.9532163742690059 max score is at index 3\n",
      "max score is 0.9707602339181286 max score is at index 2\n"
     ]
    },
    {
     "name": "stdout",
     "output_type": "stream",
     "text": [
      "max score is 0.9532163742690059 max score is at index 7\n",
      "max score is 0.9532163742690059 max score is at index 7\n",
      "max score is 0.9532163742690059 max score is at index 5\n",
      "max score is 0.9766081871345029 max score is at index 7\n",
      "max score is 0.9532163742690059 max score is at index 2\n"
     ]
    },
    {
     "name": "stdout",
     "output_type": "stream",
     "text": [
      "max score is 0.9415204678362573 max score is at index 7\n",
      "max score is 0.9473684210526315 max score is at index 8\n",
      "max score is 0.9707602339181286 max score is at index 6\n"
     ]
    },
    {
     "name": "stdout",
     "output_type": "stream",
     "text": [
      "max score is 0.9590643274853801 max score is at index 3\n",
      "max score is 0.9766081871345029 max score is at index 5\n",
      "max score is 0.9649122807017544 max score is at index 9\n",
      "max score is 0.9590643274853801 max score is at index 2\n",
      "max score is 0.9415204678362573 max score is at index 1\n"
     ]
    },
    {
     "name": "stdout",
     "output_type": "stream",
     "text": [
      "max score is 0.9415204678362573 max score is at index 2\n",
      "max score is 0.9707602339181286 max score is at index 5\n",
      "max score is 0.9590643274853801 max score is at index 6\n"
     ]
    },
    {
     "name": "stdout",
     "output_type": "stream",
     "text": [
      "max score is 0.9473684210526315 max score is at index 5\n",
      "max score is 0.9532163742690059 max score is at index 2\n",
      "max score is 0.9590643274853801 max score is at index 3\n",
      "max score is 0.9707602339181286 max score is at index 5\n"
     ]
    },
    {
     "name": "stdout",
     "output_type": "stream",
     "text": [
      "max score is 0.9590643274853801 max score is at index 2\n",
      "max score is 0.935672514619883 max score is at index 3\n",
      "max score is 0.9298245614035088 max score is at index 5\n",
      "max score is 0.9532163742690059 max score is at index 4\n"
     ]
    },
    {
     "name": "stdout",
     "output_type": "stream",
     "text": [
      "max score is 0.9707602339181286 max score is at index 3\n",
      "max score is 0.9590643274853801 max score is at index 6\n",
      "max score is 0.935672514619883 max score is at index 3\n",
      "max score is 0.9473684210526315 max score is at index 8\n",
      "max score is 0.935672514619883 max score is at index 6\n",
      "max score is 0.9590643274853801 "
     ]
    },
    {
     "name": "stdout",
     "output_type": "stream",
     "text": [
      "max score is at index 4\n",
      "max score is 0.9707602339181286 max score is at index 1\n",
      "max score is 0.9415204678362573 max score is at index 3\n",
      "max score is 0.9707602339181286 max score is at index 2\n"
     ]
    },
    {
     "name": "stdout",
     "output_type": "stream",
     "text": [
      "max score is 0.9532163742690059 max score is at index 3\n",
      "max score is 0.9532163742690059 max score is at index 8\n",
      "max score is 0.9707602339181286 max score is at index 9\n",
      "max score is 0.9590643274853801 max score is at index 5\n",
      "max score is 0.9649122807017544 max score is at index 5\n",
      "max score is 0.9766081871345029 max score is at index 6\n"
     ]
    },
    {
     "name": "stdout",
     "output_type": "stream",
     "text": [
      "max score is 0.9649122807017544 max score is at index 7\n",
      "max score is 0.9590643274853801 max score is at index 7\n",
      "max score is 0.9473684210526315 max score is at index 9\n"
     ]
    },
    {
     "name": "stdout",
     "output_type": "stream",
     "text": [
      "max score is 0.9590643274853801 max score is at index 8\n",
      "max score is 0.9473684210526315 max score is at index 4\n",
      "max score is 0.9649122807017544 max score is at index 10\n",
      "max score is 0.9532163742690059 max score is at index 2\n"
     ]
    },
    {
     "name": "stdout",
     "output_type": "stream",
     "text": [
      "max score is 0.9532163742690059 max score is at index 4\n",
      "max score is 0.9239766081871345 max score is at index 4\n",
      "max score is 0.9532163742690059 max score is at index 5\n",
      "max score is 0.9415204678362573 max score is at index 1\n"
     ]
    },
    {
     "name": "stdout",
     "output_type": "stream",
     "text": [
      "max score is 0.9590643274853801 max score is at index 5\n",
      "max score is 0.9473684210526315 max score is at index 8\n",
      "max score is 0.9473684210526315 max score is at index 3\n",
      "max score is 0.9473684210526315 max score is at index 1\n",
      "max score is 0.9415204678362573 max score is at index 1\n"
     ]
    },
    {
     "name": "stdout",
     "output_type": "stream",
     "text": [
      "max score is 0.9649122807017544 max score is at index 4\n",
      "max score is 0.9532163742690059 max score is at index 6\n",
      "max score is 0.935672514619883 max score is at index 8\n",
      "max score is 0.9473684210526315 max score is at index 1\n",
      "max score is 0.9415204678362573 max score is at index 5\n"
     ]
    },
    {
     "name": "stdout",
     "output_type": "stream",
     "text": [
      "max score is 0.9415204678362573 max score is at index 1\n",
      "max score is 0.9766081871345029 max score is at index 2\n",
      "max score is 0.9649122807017544 max score is at index 1\n",
      "max score is 0.9590643274853801 max score is at index 2\n"
     ]
    },
    {
     "name": "stderr",
     "output_type": "stream",
     "text": [
      "WARNING: Some output was deleted.\n"
     ]
    }
   ],
   "source": [
    "para=np.zeros([1000,4])\n",
    "i=0\n",
    "for i in range (1000):\n",
    "    dataset1 = shuffle(dataset)\n",
    "    X = dataset1.iloc[:, :-1].values\n",
    "    Y = dataset1.iloc[:, -1].values\n",
    "    labelencoder_Y = LabelEncoder()\n",
    "    Y = labelencoder_Y.fit_transform(Y)\n",
    "    #Encoding categorical data values \n",
    "    # split our dataset into training and testing datasets\n",
    "    X_train, X_test, y_train, y_test = train_test_split(X, Y, test_size =     0.3,     random_state = 0)\n",
    "    scaler = StandardScaler().fit(X_train)\n",
    "    X_train = scaler.transform(X_train)\n",
    "    X_test = scaler.transform(X_test)\n",
    "    y_pred=dt_model_1()\n",
    "\n",
    "    a=values_confusion_matrix(y_test,y_pred)\n",
    "    para[i,:]=a\n",
    "    i=i+1\n",
    "\n",
    "print(np.average(para, axis=0))\n",
    "print(np.std(para, axis=0))"
   ]
  },
  {
   "cell_type": "code",
   "execution_count": 1782,
   "metadata": {
    "collapsed": false
   },
   "outputs": [
    {
     "data": {
      "image/png": "[encoded data removed]",
      "text/plain": [
       "<IPython.core.display.Image object>"
      ]
     },
     "execution_count": 1782,
     "metadata": {},
     "output_type": "execute_result"
    }
   ],
   "source": [
    "# instantiating the model\n",
    "tree =  DecisionTreeClassifier()\n",
    "\n",
    "# fitting the model\n",
    "model = tree.fit(X_train,y_train)\n",
    "\n",
    "#plot desicion tree\n",
    "\n",
    "from sklearn.externals.six import StringIO\n",
    "from sklearn.tree import export_graphviz\n",
    "import pydotplus\n",
    "from IPython.display import Image\n",
    "\n",
    "dot_data = StringIO()\n",
    "\n",
    "export_graphviz(model, out_file = dot_data, filled=True, rounded=True, proportion=False, special_characters=True, feature_names=features[:-1], class_names=['B', 'M'])\n",
    "\n",
    "graph = pydotplus.graph_from_dot_data(dot_data.getvalue())\n",
    "\n",
    "Image(graph.create_png())"
   ]
  }
 ],
 "metadata": {
  "kernelspec": {
   "display_name": "Python 3 (Anaconda 5)",
   "env": {
    "LD_LIBRARY_PATH": "/ext/anaconda5/lib",
    "PYTHONHOME": "/ext/anaconda5/lib/python3.5",
    "PYTHONPATH": "/ext/anaconda5/lib/python3.5:/ext/anaconda5/lib/python3.5/site-packages"
   },
   "language": "python",
   "metadata": {
    "cocalc": {
     "description": "Python/R distribution for data science",
     "priority": 5,
     "url": "https://www.anaconda.com/distribution/"
    }
   },
   "name": "anaconda5"
  },
  "language_info": {
   "codemirror_mode": {
    "name": "ipython",
    "version": 3
   },
   "file_extension": ".py",
   "mimetype": "text/x-python",
   "name": "python",
   "nbconvert_exporter": "python",
   "pygments_lexer": "ipython3",
   "version": "3.6.7"
  }
 },
 "nbformat": 4,
 "nbformat_minor": 0
}